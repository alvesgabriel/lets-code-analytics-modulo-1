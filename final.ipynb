{
 "cells": [
  {
   "cell_type": "code",
   "execution_count": 1,
   "metadata": {},
   "outputs": [],
   "source": [
    "import pandas as pd\n",
    "import seaborn as sns\n",
    "import matplotlib.pyplot as plt"
   ]
  },
  {
   "cell_type": "code",
   "execution_count": 2,
   "metadata": {},
   "outputs": [],
   "source": [
    "figsize = (24, 8)"
   ]
  },
  {
   "cell_type": "code",
   "execution_count": 3,
   "metadata": {},
   "outputs": [
    {
     "data": {
      "text/html": [
       "<div>\n",
       "<style scoped>\n",
       "    .dataframe tbody tr th:only-of-type {\n",
       "        vertical-align: middle;\n",
       "    }\n",
       "\n",
       "    .dataframe tbody tr th {\n",
       "        vertical-align: top;\n",
       "    }\n",
       "\n",
       "    .dataframe thead th {\n",
       "        text-align: right;\n",
       "    }\n",
       "</style>\n",
       "<table border=\"1\" class=\"dataframe\">\n",
       "  <thead>\n",
       "    <tr style=\"text-align: right;\">\n",
       "      <th></th>\n",
       "      <th>Name</th>\n",
       "      <th>Short description</th>\n",
       "      <th>Gender</th>\n",
       "      <th>Country</th>\n",
       "      <th>Occupation</th>\n",
       "      <th>Birth year</th>\n",
       "      <th>Death year</th>\n",
       "      <th>Age of death</th>\n",
       "    </tr>\n",
       "  </thead>\n",
       "  <tbody>\n",
       "    <tr>\n",
       "      <th>0</th>\n",
       "      <td>George Washington</td>\n",
       "      <td>1st president of the United States (1732–1799)</td>\n",
       "      <td>Male</td>\n",
       "      <td>United States of America; Kingdom of Great Bri...</td>\n",
       "      <td>Politician</td>\n",
       "      <td>1732</td>\n",
       "      <td>1799.0</td>\n",
       "      <td>67.0</td>\n",
       "    </tr>\n",
       "    <tr>\n",
       "      <th>1</th>\n",
       "      <td>Douglas Adams</td>\n",
       "      <td>English writer and humorist</td>\n",
       "      <td>Male</td>\n",
       "      <td>United Kingdom</td>\n",
       "      <td>Artist</td>\n",
       "      <td>1952</td>\n",
       "      <td>2001.0</td>\n",
       "      <td>49.0</td>\n",
       "    </tr>\n",
       "    <tr>\n",
       "      <th>2</th>\n",
       "      <td>Abraham Lincoln</td>\n",
       "      <td>16th president of the United States (1809-1865)</td>\n",
       "      <td>Male</td>\n",
       "      <td>United States of America</td>\n",
       "      <td>Politician</td>\n",
       "      <td>1809</td>\n",
       "      <td>1865.0</td>\n",
       "      <td>56.0</td>\n",
       "    </tr>\n",
       "    <tr>\n",
       "      <th>3</th>\n",
       "      <td>Wolfgang Amadeus Mozart</td>\n",
       "      <td>Austrian composer of the Classical period</td>\n",
       "      <td>Male</td>\n",
       "      <td>Archduchy of Austria; Archbishopric of Salzburg</td>\n",
       "      <td>Artist</td>\n",
       "      <td>1756</td>\n",
       "      <td>1791.0</td>\n",
       "      <td>35.0</td>\n",
       "    </tr>\n",
       "    <tr>\n",
       "      <th>4</th>\n",
       "      <td>Ludwig van Beethoven</td>\n",
       "      <td>German classical and romantic composer</td>\n",
       "      <td>Male</td>\n",
       "      <td>Holy Roman Empire; Austrian Empire</td>\n",
       "      <td>Artist</td>\n",
       "      <td>1770</td>\n",
       "      <td>1827.0</td>\n",
       "      <td>57.0</td>\n",
       "    </tr>\n",
       "    <tr>\n",
       "      <th>...</th>\n",
       "      <td>...</td>\n",
       "      <td>...</td>\n",
       "      <td>...</td>\n",
       "      <td>...</td>\n",
       "      <td>...</td>\n",
       "      <td>...</td>\n",
       "      <td>...</td>\n",
       "      <td>...</td>\n",
       "    </tr>\n",
       "    <tr>\n",
       "      <th>732956</th>\n",
       "      <td>Wim de Vreng</td>\n",
       "      <td>Dutch swimmer</td>\n",
       "      <td>Male</td>\n",
       "      <td>Kingdom of the Netherlands</td>\n",
       "      <td>Athlete</td>\n",
       "      <td>1930</td>\n",
       "      <td>1980.0</td>\n",
       "      <td>50.0</td>\n",
       "    </tr>\n",
       "    <tr>\n",
       "      <th>732957</th>\n",
       "      <td>James Smillie</td>\n",
       "      <td>goudsmid uit Schotland (1784-1841)</td>\n",
       "      <td>Male</td>\n",
       "      <td>Scotland</td>\n",
       "      <td>Goldsmith</td>\n",
       "      <td>1784</td>\n",
       "      <td>1841.0</td>\n",
       "      <td>57.0</td>\n",
       "    </tr>\n",
       "    <tr>\n",
       "      <th>732958</th>\n",
       "      <td>Gustav Siber</td>\n",
       "      <td>entrepreneur from Switzerland</td>\n",
       "      <td>Male</td>\n",
       "      <td>Switzerland</td>\n",
       "      <td>Entrepreneur</td>\n",
       "      <td>1857</td>\n",
       "      <td>1924.0</td>\n",
       "      <td>67.0</td>\n",
       "    </tr>\n",
       "    <tr>\n",
       "      <th>732959</th>\n",
       "      <td>Reginald Oswald Pearson</td>\n",
       "      <td>English artist, working in stained glass, prin...</td>\n",
       "      <td>Male</td>\n",
       "      <td>United Kingdom</td>\n",
       "      <td>Artist</td>\n",
       "      <td>1887</td>\n",
       "      <td>1915.0</td>\n",
       "      <td>28.0</td>\n",
       "    </tr>\n",
       "    <tr>\n",
       "      <th>732960</th>\n",
       "      <td>Horst Lerche</td>\n",
       "      <td>German painter</td>\n",
       "      <td>Male</td>\n",
       "      <td>Germany</td>\n",
       "      <td>Artist</td>\n",
       "      <td>1938</td>\n",
       "      <td>2017.0</td>\n",
       "      <td>79.0</td>\n",
       "    </tr>\n",
       "  </tbody>\n",
       "</table>\n",
       "<p>732961 rows × 8 columns</p>\n",
       "</div>"
      ],
      "text/plain": [
       "                           Name  \\\n",
       "0             George Washington   \n",
       "1                 Douglas Adams   \n",
       "2               Abraham Lincoln   \n",
       "3       Wolfgang Amadeus Mozart   \n",
       "4          Ludwig van Beethoven   \n",
       "...                         ...   \n",
       "732956             Wim de Vreng   \n",
       "732957            James Smillie   \n",
       "732958             Gustav Siber   \n",
       "732959  Reginald Oswald Pearson   \n",
       "732960             Horst Lerche   \n",
       "\n",
       "                                        Short description Gender  \\\n",
       "0          1st president of the United States (1732–1799)   Male   \n",
       "1                             English writer and humorist   Male   \n",
       "2         16th president of the United States (1809-1865)   Male   \n",
       "3               Austrian composer of the Classical period   Male   \n",
       "4                  German classical and romantic composer   Male   \n",
       "...                                                   ...    ...   \n",
       "732956                                      Dutch swimmer   Male   \n",
       "732957                 goudsmid uit Schotland (1784-1841)   Male   \n",
       "732958                      entrepreneur from Switzerland   Male   \n",
       "732959  English artist, working in stained glass, prin...   Male   \n",
       "732960                                     German painter   Male   \n",
       "\n",
       "                                                  Country    Occupation  \\\n",
       "0       United States of America; Kingdom of Great Bri...    Politician   \n",
       "1                                          United Kingdom        Artist   \n",
       "2                                United States of America    Politician   \n",
       "3         Archduchy of Austria; Archbishopric of Salzburg        Artist   \n",
       "4                      Holy Roman Empire; Austrian Empire        Artist   \n",
       "...                                                   ...           ...   \n",
       "732956                         Kingdom of the Netherlands       Athlete   \n",
       "732957                                           Scotland     Goldsmith   \n",
       "732958                                        Switzerland  Entrepreneur   \n",
       "732959                                     United Kingdom        Artist   \n",
       "732960                                            Germany        Artist   \n",
       "\n",
       "        Birth year  Death year  Age of death  \n",
       "0             1732      1799.0          67.0  \n",
       "1             1952      2001.0          49.0  \n",
       "2             1809      1865.0          56.0  \n",
       "3             1756      1791.0          35.0  \n",
       "4             1770      1827.0          57.0  \n",
       "...            ...         ...           ...  \n",
       "732956        1930      1980.0          50.0  \n",
       "732957        1784      1841.0          57.0  \n",
       "732958        1857      1924.0          67.0  \n",
       "732959        1887      1915.0          28.0  \n",
       "732960        1938      2017.0          79.0  \n",
       "\n",
       "[732961 rows x 8 columns]"
      ]
     },
     "execution_count": 3,
     "metadata": {},
     "output_type": "execute_result"
    }
   ],
   "source": [
    "filename = 'AgeDatasetClean.csv'\n",
    "df = pd.read_csv(filename,sep='|')\n",
    "df"
   ]
  },
  {
   "cell_type": "markdown",
   "metadata": {},
   "source": [
    "# Longevidade"
   ]
  },
  {
   "cell_type": "markdown",
   "metadata": {},
   "source": [
    "<img src='27anoss.jpg' width='750px'>"
   ]
  },
  {
   "cell_type": "markdown",
   "metadata": {},
   "source": [
    "Contrariando ~~ou não~~ a teoria de que os mais talentosos morrem aos 27 anos, uma coisa é certa, a idade campeão de mortes entre as personalidades é com 80 anos e a Ocupação/profissão seria atletas."
   ]
  },
  {
   "cell_type": "code",
   "execution_count": 4,
   "metadata": {},
   "outputs": [
    {
     "data": {
      "text/plain": [
       "Athlete               413\n",
       "Artist                361\n",
       "Military personnel    311\n",
       "Politician            110\n",
       "Researcher             43\n",
       "Aristocrat             28\n",
       "Religious figure       23\n",
       "Flying ace             17\n",
       "Engineer               13\n",
       "Journalist             10\n",
       "Name: Occupation, dtype: int64"
      ]
     },
     "execution_count": 4,
     "metadata": {},
     "output_type": "execute_result"
    }
   ],
   "source": [
    "club_27 = df[df['Age of death'] == 27]['Occupation'].value_counts()[:10]\n",
    "club_27"
   ]
  },
  {
   "cell_type": "code",
   "execution_count": 5,
   "metadata": {},
   "outputs": [
    {
     "data": {
      "image/png": "[encoded data removed]",
      "text/plain": [
       "<Figure size 1728x576 with 1 Axes>"
      ]
     },
     "metadata": {
      "needs_background": "light"
     },
     "output_type": "display_data"
    }
   ],
   "source": [
    "plt.figure(figsize=figsize)\n",
    "\n",
    "df_club_27 = df[df.Occupation.isin(club_27.index)]\n",
    "sns.histplot(df_club_27, x=df_club_27.Occupation)\n",
    "\n",
    "# Mostra o nosso Gráfico\n",
    "plt.show()"
   ]
  },
  {
   "cell_type": "markdown",
   "metadata": {},
   "source": [
    "# Ocupação"
   ]
  },
  {
   "cell_type": "code",
   "execution_count": 6,
   "metadata": {},
   "outputs": [
    {
     "data": {
      "text/plain": [
       "Artist                207322\n",
       "Politician            152916\n",
       "Athlete                92645\n",
       "Researcher             63799\n",
       "Military personnel     36025\n",
       "Religious figure       18538\n",
       "Architect              12588\n",
       "Businessperson         12108\n",
       "Journalist             10929\n",
       "Teacher                10769\n",
       "Name: Occupation, dtype: int64"
      ]
     },
     "execution_count": 6,
     "metadata": {},
     "output_type": "execute_result"
    }
   ],
   "source": [
    "top_occupation = df['Occupation'].value_counts()[:10]\n",
    "top_occupation"
   ]
  },
  {
   "cell_type": "code",
   "execution_count": 7,
   "metadata": {},
   "outputs": [],
   "source": [
    "df_occupation = df[df.Occupation.isin(top_occupation.index)]"
   ]
  },
  {
   "cell_type": "code",
   "execution_count": 8,
   "metadata": {},
   "outputs": [
    {
     "data": {
      "image/png": "[encoded data removed]",
      "text/plain": [
       "<Figure size 1728x576 with 1 Axes>"
      ]
     },
     "metadata": {
      "needs_background": "light"
     },
     "output_type": "display_data"
    }
   ],
   "source": [
    "# Ajustando o tamanho da Figura\n",
    "\n",
    "plt.figure(figsize=figsize) ## Tamanho da figura em polegadas\n",
    "\n",
    "sns.barplot(data=df, y=df_occupation.Occupation, x='Age of death')\n",
    "\n",
    "# Coloca o titulo\n",
    "plt.title('Idade do falecimento das top 10 ocupações dos fomosos', fontsize = 25)\n",
    "\n",
    "# Titulo para eixo X\n",
    "plt.xlabel('Ano da morte', fontsize=15)\n",
    "\n",
    "# Titulo para eixo Y\n",
    "plt.ylabel('Ocupações', fontsize=15)\n",
    "\n",
    "# Tamanho da fonte da grade X\n",
    "plt.xticks(fontsize=12)\n",
    "\n",
    "# Tamanho da fonte da grade Y\n",
    "plt.yticks(fontsize=12)\n",
    "\n",
    "# Mostra o nosso Gráfico\n",
    "plt.show()\n"
   ]
  },
  {
   "cell_type": "markdown",
   "metadata": {},
   "source": [
    "# Gênero"
   ]
  },
  {
   "cell_type": "markdown",
   "metadata": {},
   "source": [
    "Mulheres vivem mais que homens?"
   ]
  },
  {
   "cell_type": "code",
   "execution_count": 9,
   "metadata": {},
   "outputs": [],
   "source": [
    "## Alterando para Others os genêros diferentes de Male ou Female\n",
    "gender_others = (df['Gender'] != 'Male') & (df['Gender'] != 'Female')\n",
    "df.loc[gender_others, 'Gender'] = 'Others'"
   ]
  },
  {
   "cell_type": "code",
   "execution_count": 10,
   "metadata": {},
   "outputs": [
    {
     "data": {
      "text/html": [
       "<div>\n",
       "<style scoped>\n",
       "    .dataframe tbody tr th:only-of-type {\n",
       "        vertical-align: middle;\n",
       "    }\n",
       "\n",
       "    .dataframe tbody tr th {\n",
       "        vertical-align: top;\n",
       "    }\n",
       "\n",
       "    .dataframe thead th {\n",
       "        text-align: right;\n",
       "    }\n",
       "</style>\n",
       "<table border=\"1\" class=\"dataframe\">\n",
       "  <thead>\n",
       "    <tr style=\"text-align: right;\">\n",
       "      <th></th>\n",
       "      <th>mean</th>\n",
       "      <th>median</th>\n",
       "    </tr>\n",
       "    <tr>\n",
       "      <th>Gender</th>\n",
       "      <th></th>\n",
       "      <th></th>\n",
       "    </tr>\n",
       "  </thead>\n",
       "  <tbody>\n",
       "    <tr>\n",
       "      <th>Female</th>\n",
       "      <td>72.717995</td>\n",
       "      <td>77.0</td>\n",
       "    </tr>\n",
       "    <tr>\n",
       "      <th>Male</th>\n",
       "      <td>70.103269</td>\n",
       "      <td>73.0</td>\n",
       "    </tr>\n",
       "    <tr>\n",
       "      <th>Others</th>\n",
       "      <td>56.551181</td>\n",
       "      <td>60.0</td>\n",
       "    </tr>\n",
       "  </tbody>\n",
       "</table>\n",
       "</div>"
      ],
      "text/plain": [
       "             mean  median\n",
       "Gender                   \n",
       "Female  72.717995    77.0\n",
       "Male    70.103269    73.0\n",
       "Others  56.551181    60.0"
      ]
     },
     "execution_count": 10,
     "metadata": {},
     "output_type": "execute_result"
    }
   ],
   "source": [
    "## A gente pode visualizar por sexo a media e mediana da idade que os artistas faleceram\n",
    "df_age = df.groupby(['Gender'])['Age of death'].agg(['mean', 'median'])\n",
    "df_age"
   ]
  },
  {
   "cell_type": "code",
   "execution_count": 11,
   "metadata": {},
   "outputs": [
    {
     "data": {
      "image/png": "[encoded data removed]",
      "text/plain": [
       "<Figure size 1080x576 with 1 Axes>"
      ]
     },
     "metadata": {
      "needs_background": "light"
     },
     "output_type": "display_data"
    }
   ],
   "source": [
    "plt.figure(figsize=(15, 8))\n",
    "plt.subplot(121)\n",
    "df.boxplot(['Birth year'])\n",
    "plt.show()"
   ]
  },
  {
   "cell_type": "code",
   "execution_count": 12,
   "metadata": {},
   "outputs": [
    {
     "data": {
      "image/png": "[encoded data removed]",
      "text/plain": [
       "<Figure size 1728x576 with 1 Axes>"
      ]
     },
     "metadata": {
      "needs_background": "light"
     },
     "output_type": "display_data"
    }
   ],
   "source": [
    "df_old = df[df['Birth year'] < 0].sort_values('Birth year')[:10]\n",
    "\n",
    "plt.figure(figsize=figsize)\n",
    "\n",
    "sns.barplot(data=df_old, y=df_old.Name, x='Birth year')\n",
    "\n",
    "plt.show()"
   ]
  },
  {
   "cell_type": "code",
   "execution_count": 13,
   "metadata": {},
   "outputs": [
    {
     "data": {
      "image/png": "[encoded data removed]",
      "text/plain": [
       "<Figure size 432x288 with 1 Axes>"
      ]
     },
     "metadata": {
      "needs_background": "light"
     },
     "output_type": "display_data"
    }
   ],
   "source": [
    "sns.barplot(data=df, x='Gender', y='Age of death')\n",
    "\n",
    "plt.show()"
   ]
  }
 ],
 "metadata": {
  "kernelspec": {
   "display_name": "Python 3.8.5 ('.venv': venv)",
   "language": "python",
   "name": "python3"
  },
  "language_info": {
   "codemirror_mode": {
    "name": "ipython",
    "version": 3
   },
   "file_extension": ".py",
   "mimetype": "text/x-python",
   "name": "python",
   "nbconvert_exporter": "python",
   "pygments_lexer": "ipython3",
   "version": "3.8.5"
  },
  "orig_nbformat": 4,
  "vscode": {
   "interpreter": {
    "hash": "26e36c08b061f2911e8cbb88ec5963c43a5d9181426b19ee77997581a57ae9e3"
   }
  }
 },
 "nbformat": 4,
 "nbformat_minor": 2
}
