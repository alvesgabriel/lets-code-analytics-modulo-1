{
 "cells": [
  {
   "cell_type": "code",
   "execution_count": 13,
   "metadata": {
    "ExecuteTime": {
     "end_time": "2022-07-06T11:43:30.705089Z",
     "start_time": "2022-07-06T11:43:30.698108Z"
    }
   },
   "outputs": [],
   "source": [
    "import numpy as np\n",
    "import pandas as pd\n",
    "import seaborn as sns\n",
    "import matplotlib.pyplot as plt"
   ]
  },
  {
   "cell_type": "markdown",
   "metadata": {},
   "source": [
    "1. Ano com maior quantidade de mortes\n",
    "1. Longevidade\n",
    "1. Clube dos 27 (pessoas que morreram com 27 anos)"
   ]
  },
  {
   "cell_type": "code",
   "execution_count": 14,
   "metadata": {
    "ExecuteTime": {
     "end_time": "2022-07-06T11:43:41.320221Z",
     "start_time": "2022-07-06T11:43:37.732825Z"
    }
   },
   "outputs": [
    {
     "data": {
      "text/html": [
       "<div>\n",
       "<style scoped>\n",
       "    .dataframe tbody tr th:only-of-type {\n",
       "        vertical-align: middle;\n",
       "    }\n",
       "\n",
       "    .dataframe tbody tr th {\n",
       "        vertical-align: top;\n",
       "    }\n",
       "\n",
       "    .dataframe thead th {\n",
       "        text-align: right;\n",
       "    }\n",
       "</style>\n",
       "<table border=\"1\" class=\"dataframe\">\n",
       "  <thead>\n",
       "    <tr style=\"text-align: right;\">\n",
       "      <th></th>\n",
       "      <th>Name</th>\n",
       "      <th>Short description</th>\n",
       "      <th>Gender</th>\n",
       "      <th>Country</th>\n",
       "      <th>Occupation</th>\n",
       "      <th>Birth year</th>\n",
       "      <th>Death year</th>\n",
       "      <th>Age of death</th>\n",
       "    </tr>\n",
       "  </thead>\n",
       "  <tbody>\n",
       "    <tr>\n",
       "      <th>0</th>\n",
       "      <td>George Washington</td>\n",
       "      <td>1st president of the United States (1732–1799)</td>\n",
       "      <td>Male</td>\n",
       "      <td>United States of America; Kingdom of Great Bri...</td>\n",
       "      <td>Politician</td>\n",
       "      <td>1732</td>\n",
       "      <td>1799.0</td>\n",
       "      <td>67.0</td>\n",
       "    </tr>\n",
       "    <tr>\n",
       "      <th>1</th>\n",
       "      <td>Douglas Adams</td>\n",
       "      <td>English writer and humorist</td>\n",
       "      <td>Male</td>\n",
       "      <td>United Kingdom</td>\n",
       "      <td>Artist</td>\n",
       "      <td>1952</td>\n",
       "      <td>2001.0</td>\n",
       "      <td>49.0</td>\n",
       "    </tr>\n",
       "    <tr>\n",
       "      <th>2</th>\n",
       "      <td>Abraham Lincoln</td>\n",
       "      <td>16th president of the United States (1809-1865)</td>\n",
       "      <td>Male</td>\n",
       "      <td>United States of America</td>\n",
       "      <td>Politician</td>\n",
       "      <td>1809</td>\n",
       "      <td>1865.0</td>\n",
       "      <td>56.0</td>\n",
       "    </tr>\n",
       "    <tr>\n",
       "      <th>3</th>\n",
       "      <td>Wolfgang Amadeus Mozart</td>\n",
       "      <td>Austrian composer of the Classical period</td>\n",
       "      <td>Male</td>\n",
       "      <td>Archduchy of Austria; Archbishopric of Salzburg</td>\n",
       "      <td>Artist</td>\n",
       "      <td>1756</td>\n",
       "      <td>1791.0</td>\n",
       "      <td>35.0</td>\n",
       "    </tr>\n",
       "    <tr>\n",
       "      <th>4</th>\n",
       "      <td>Ludwig van Beethoven</td>\n",
       "      <td>German classical and romantic composer</td>\n",
       "      <td>Male</td>\n",
       "      <td>Holy Roman Empire; Austrian Empire</td>\n",
       "      <td>Artist</td>\n",
       "      <td>1770</td>\n",
       "      <td>1827.0</td>\n",
       "      <td>57.0</td>\n",
       "    </tr>\n",
       "    <tr>\n",
       "      <th>...</th>\n",
       "      <td>...</td>\n",
       "      <td>...</td>\n",
       "      <td>...</td>\n",
       "      <td>...</td>\n",
       "      <td>...</td>\n",
       "      <td>...</td>\n",
       "      <td>...</td>\n",
       "      <td>...</td>\n",
       "    </tr>\n",
       "    <tr>\n",
       "      <th>732956</th>\n",
       "      <td>Wim de Vreng</td>\n",
       "      <td>Dutch swimmer</td>\n",
       "      <td>Male</td>\n",
       "      <td>Kingdom of the Netherlands</td>\n",
       "      <td>Athlete</td>\n",
       "      <td>1930</td>\n",
       "      <td>1980.0</td>\n",
       "      <td>50.0</td>\n",
       "    </tr>\n",
       "    <tr>\n",
       "      <th>732957</th>\n",
       "      <td>James Smillie</td>\n",
       "      <td>goudsmid uit Schotland (1784-1841)</td>\n",
       "      <td>Male</td>\n",
       "      <td>Scotland</td>\n",
       "      <td>Goldsmith</td>\n",
       "      <td>1784</td>\n",
       "      <td>1841.0</td>\n",
       "      <td>57.0</td>\n",
       "    </tr>\n",
       "    <tr>\n",
       "      <th>732958</th>\n",
       "      <td>Gustav Siber</td>\n",
       "      <td>entrepreneur from Switzerland</td>\n",
       "      <td>Male</td>\n",
       "      <td>Switzerland</td>\n",
       "      <td>Entrepreneur</td>\n",
       "      <td>1857</td>\n",
       "      <td>1924.0</td>\n",
       "      <td>67.0</td>\n",
       "    </tr>\n",
       "    <tr>\n",
       "      <th>732959</th>\n",
       "      <td>Reginald Oswald Pearson</td>\n",
       "      <td>English artist, working in stained glass, prin...</td>\n",
       "      <td>Male</td>\n",
       "      <td>United Kingdom</td>\n",
       "      <td>Artist</td>\n",
       "      <td>1887</td>\n",
       "      <td>1915.0</td>\n",
       "      <td>28.0</td>\n",
       "    </tr>\n",
       "    <tr>\n",
       "      <th>732960</th>\n",
       "      <td>Horst Lerche</td>\n",
       "      <td>German painter</td>\n",
       "      <td>Male</td>\n",
       "      <td>Germany</td>\n",
       "      <td>Artist</td>\n",
       "      <td>1938</td>\n",
       "      <td>2017.0</td>\n",
       "      <td>79.0</td>\n",
       "    </tr>\n",
       "  </tbody>\n",
       "</table>\n",
       "<p>732961 rows × 8 columns</p>\n",
       "</div>"
      ],
      "text/plain": [
       "                           Name  \\\n",
       "0             George Washington   \n",
       "1                 Douglas Adams   \n",
       "2               Abraham Lincoln   \n",
       "3       Wolfgang Amadeus Mozart   \n",
       "4          Ludwig van Beethoven   \n",
       "...                         ...   \n",
       "732956             Wim de Vreng   \n",
       "732957            James Smillie   \n",
       "732958             Gustav Siber   \n",
       "732959  Reginald Oswald Pearson   \n",
       "732960             Horst Lerche   \n",
       "\n",
       "                                        Short description Gender  \\\n",
       "0          1st president of the United States (1732–1799)   Male   \n",
       "1                             English writer and humorist   Male   \n",
       "2         16th president of the United States (1809-1865)   Male   \n",
       "3               Austrian composer of the Classical period   Male   \n",
       "4                  German classical and romantic composer   Male   \n",
       "...                                                   ...    ...   \n",
       "732956                                      Dutch swimmer   Male   \n",
       "732957                 goudsmid uit Schotland (1784-1841)   Male   \n",
       "732958                      entrepreneur from Switzerland   Male   \n",
       "732959  English artist, working in stained glass, prin...   Male   \n",
       "732960                                     German painter   Male   \n",
       "\n",
       "                                                  Country    Occupation  \\\n",
       "0       United States of America; Kingdom of Great Bri...    Politician   \n",
       "1                                          United Kingdom        Artist   \n",
       "2                                United States of America    Politician   \n",
       "3         Archduchy of Austria; Archbishopric of Salzburg        Artist   \n",
       "4                      Holy Roman Empire; Austrian Empire        Artist   \n",
       "...                                                   ...           ...   \n",
       "732956                         Kingdom of the Netherlands       Athlete   \n",
       "732957                                           Scotland     Goldsmith   \n",
       "732958                                        Switzerland  Entrepreneur   \n",
       "732959                                     United Kingdom        Artist   \n",
       "732960                                            Germany        Artist   \n",
       "\n",
       "        Birth year  Death year  Age of death  \n",
       "0             1732      1799.0          67.0  \n",
       "1             1952      2001.0          49.0  \n",
       "2             1809      1865.0          56.0  \n",
       "3             1756      1791.0          35.0  \n",
       "4             1770      1827.0          57.0  \n",
       "...            ...         ...           ...  \n",
       "732956        1930      1980.0          50.0  \n",
       "732957        1784      1841.0          57.0  \n",
       "732958        1857      1924.0          67.0  \n",
       "732959        1887      1915.0          28.0  \n",
       "732960        1938      2017.0          79.0  \n",
       "\n",
       "[732961 rows x 8 columns]"
      ]
     },
     "execution_count": 14,
     "metadata": {},
     "output_type": "execute_result"
    }
   ],
   "source": [
    "df = pd.read_csv('AgeDatasetClean.csv', sep='|')\n",
    "df"
   ]
  },
  {
   "cell_type": "code",
   "execution_count": 15,
   "metadata": {
    "ExecuteTime": {
     "end_time": "2022-07-06T01:00:17.573869Z",
     "start_time": "2022-07-06T01:00:16.430321Z"
    }
   },
   "outputs": [
    {
     "data": {
      "text/plain": [
       "Name                 689988\n",
       "Short description    323654\n",
       "Gender                   19\n",
       "Country                5505\n",
       "Occupation             7750\n",
       "Birth year             1887\n",
       "Death year             1928\n",
       "Age of death             91\n",
       "dtype: int64"
      ]
     },
     "execution_count": 15,
     "metadata": {},
     "output_type": "execute_result"
    }
   ],
   "source": [
    "df.nunique()"
   ]
  },
  {
   "cell_type": "code",
   "execution_count": 16,
   "metadata": {
    "ExecuteTime": {
     "end_time": "2022-07-06T11:14:22.971904Z",
     "start_time": "2022-07-06T11:14:22.031534Z"
    }
   },
   "outputs": [
    {
     "name": "stdout",
     "output_type": "stream",
     "text": [
      "<class 'pandas.core.frame.DataFrame'>\n",
      "RangeIndex: 732961 entries, 0 to 732960\n",
      "Data columns (total 8 columns):\n",
      " #   Column             Non-Null Count   Dtype  \n",
      "---  ------             --------------   -----  \n",
      " 0   Name               732961 non-null  object \n",
      " 1   Short description  732961 non-null  object \n",
      " 2   Gender             732961 non-null  object \n",
      " 3   Country            732961 non-null  object \n",
      " 4   Occupation         732961 non-null  object \n",
      " 5   Birth year         732961 non-null  int64  \n",
      " 6   Death year         732961 non-null  float64\n",
      " 7   Age of death       732961 non-null  float64\n",
      "dtypes: float64(2), int64(1), object(5)\n",
      "memory usage: 44.7+ MB\n"
     ]
    }
   ],
   "source": [
    "df.info()"
   ]
  },
  {
   "cell_type": "code",
   "execution_count": 17,
   "metadata": {
    "ExecuteTime": {
     "end_time": "2022-07-06T11:15:13.846322Z",
     "start_time": "2022-07-06T11:15:13.698056Z"
    }
   },
   "outputs": [
    {
     "data": {
      "text/html": [
       "<div>\n",
       "<style scoped>\n",
       "    .dataframe tbody tr th:only-of-type {\n",
       "        vertical-align: middle;\n",
       "    }\n",
       "\n",
       "    .dataframe tbody tr th {\n",
       "        vertical-align: top;\n",
       "    }\n",
       "\n",
       "    .dataframe thead th {\n",
       "        text-align: right;\n",
       "    }\n",
       "</style>\n",
       "<table border=\"1\" class=\"dataframe\">\n",
       "  <thead>\n",
       "    <tr style=\"text-align: right;\">\n",
       "      <th></th>\n",
       "      <th>Birth year</th>\n",
       "      <th>Death year</th>\n",
       "      <th>Age of death</th>\n",
       "    </tr>\n",
       "  </thead>\n",
       "  <tbody>\n",
       "    <tr>\n",
       "      <th>count</th>\n",
       "      <td>732961.000000</td>\n",
       "      <td>732961.000000</td>\n",
       "      <td>732961.000000</td>\n",
       "    </tr>\n",
       "    <tr>\n",
       "      <th>mean</th>\n",
       "      <td>1862.675478</td>\n",
       "      <td>1933.037836</td>\n",
       "      <td>70.362358</td>\n",
       "    </tr>\n",
       "    <tr>\n",
       "      <th>std</th>\n",
       "      <td>124.853161</td>\n",
       "      <td>128.017179</td>\n",
       "      <td>15.943488</td>\n",
       "    </tr>\n",
       "    <tr>\n",
       "      <th>min</th>\n",
       "      <td>-2284.000000</td>\n",
       "      <td>-2200.000000</td>\n",
       "      <td>11.000000</td>\n",
       "    </tr>\n",
       "    <tr>\n",
       "      <th>25%</th>\n",
       "      <td>1847.000000</td>\n",
       "      <td>1914.000000</td>\n",
       "      <td>61.000000</td>\n",
       "    </tr>\n",
       "    <tr>\n",
       "      <th>50%</th>\n",
       "      <td>1894.000000</td>\n",
       "      <td>1965.000000</td>\n",
       "      <td>73.000000</td>\n",
       "    </tr>\n",
       "    <tr>\n",
       "      <th>75%</th>\n",
       "      <td>1921.000000</td>\n",
       "      <td>1999.000000</td>\n",
       "      <td>82.000000</td>\n",
       "    </tr>\n",
       "    <tr>\n",
       "      <th>max</th>\n",
       "      <td>2003.000000</td>\n",
       "      <td>2021.000000</td>\n",
       "      <td>122.000000</td>\n",
       "    </tr>\n",
       "  </tbody>\n",
       "</table>\n",
       "</div>"
      ],
      "text/plain": [
       "          Birth year     Death year   Age of death\n",
       "count  732961.000000  732961.000000  732961.000000\n",
       "mean     1862.675478    1933.037836      70.362358\n",
       "std       124.853161     128.017179      15.943488\n",
       "min     -2284.000000   -2200.000000      11.000000\n",
       "25%      1847.000000    1914.000000      61.000000\n",
       "50%      1894.000000    1965.000000      73.000000\n",
       "75%      1921.000000    1999.000000      82.000000\n",
       "max      2003.000000    2021.000000     122.000000"
      ]
     },
     "execution_count": 17,
     "metadata": {},
     "output_type": "execute_result"
    }
   ],
   "source": [
    "df.describe()"
   ]
  },
  {
   "cell_type": "code",
   "execution_count": 18,
   "metadata": {
    "ExecuteTime": {
     "end_time": "2022-07-06T01:22:15.150628Z",
     "start_time": "2022-07-06T01:22:15.096745Z"
    }
   },
   "outputs": [
    {
     "data": {
      "text/plain": [
       "80.0     20304\n",
       "78.0     20076\n",
       "77.0     20039\n",
       "79.0     19993\n",
       "74.0     19884\n",
       "         ...  \n",
       "13.0        85\n",
       "12.0        79\n",
       "11.0        70\n",
       "122.0        1\n",
       "121.0        1\n",
       "Name: Age of death, Length: 91, dtype: int64"
      ]
     },
     "execution_count": 18,
     "metadata": {},
     "output_type": "execute_result"
    }
   ],
   "source": [
    "df['Age of death'].value_counts()"
   ]
  },
  {
   "cell_type": "code",
   "execution_count": 19,
   "metadata": {
    "ExecuteTime": {
     "end_time": "2022-07-06T11:25:59.911958Z",
     "start_time": "2022-07-06T11:25:59.833642Z"
    }
   },
   "outputs": [
    {
     "data": {
      "text/plain": [
       "Male                                              659548\n",
       "Female                                             73286\n",
       "Transgender Female                                    57\n",
       "Transgender Male                                      30\n",
       "Eunuch; Male                                          13\n",
       "Intersex                                               7\n",
       "Female; Male                                           5\n",
       "Transgender Male; Female                               3\n",
       "Non-Binary                                             2\n",
       "Female; Female                                         1\n",
       "Transgender Female; Intersex                           1\n",
       "Eunuch                                                 1\n",
       "Transgender Male; Male                                 1\n",
       "Transgender Female; Female                             1\n",
       "Intersex; Transgender Male                             1\n",
       "Transgender Female; Male                               1\n",
       "Intersex; Male                                         1\n",
       "Transgender Person; Intersex; Transgender Male         1\n",
       "Intersex; Female                                       1\n",
       "Name: Gender, dtype: int64"
      ]
     },
     "execution_count": 19,
     "metadata": {},
     "output_type": "execute_result"
    }
   ],
   "source": [
    "df['Gender'].value_counts()"
   ]
  },
  {
   "cell_type": "code",
   "execution_count": 20,
   "metadata": {
    "ExecuteTime": {
     "end_time": "2022-07-06T11:43:55.629421Z",
     "start_time": "2022-07-06T11:43:54.554230Z"
    }
   },
   "outputs": [],
   "source": [
    "#Adicionando demais Generos na condição Outros\n",
    "df.loc[df['Gender'] == 'Transgender Female', 'Gender'] = 'Outros'\n",
    "df.loc[df['Gender'] == 'Transgender Male', 'Gender'] = 'Outros'\n",
    "df.loc[df['Gender'] == 'Eunuch; Male', 'Gender'] = 'Outros'\n",
    "df.loc[df['Gender'] == 'Intersex', 'Gender'] = 'Outros'\n",
    "df.loc[df['Gender'] == 'Female; Male', 'Gender'] = 'Outros'\n",
    "df.loc[df['Gender'] == 'Eunuch', 'Gender'] = 'Outros'\n",
    "df.loc[df['Gender'] == 'Transgender Male; Female', 'Gender'] = 'Outros'\n",
    "df.loc[df['Gender'] == 'Non-Binary', 'Gender'] = 'Outros'\n",
    "df.loc[df['Gender'] == 'Intersex; Male', 'Gender'] = 'Outros'\n",
    "df.loc[df['Gender'] == 'Transgender Female; Male', 'Gender'] = 'Outros'\n",
    "df.loc[df['Gender'] == 'Transgender Person; Intersex; Transgender Male', 'Gender'] = 'Outros'\n",
    "df.loc[df['Gender'] == 'Non-Binary; Intersex', 'Gender'] = 'Outros'\n",
    "df.loc[df['Gender'] == 'Intersex; Female', 'Gender'] = 'Outros'\n",
    "df.loc[df['Gender'] == 'Transgender Female; Female', 'Gender'] = 'Outros'\n",
    "df.loc[df['Gender'] == 'Intersex; Transgender Male', 'Gender'] = 'Outros'\n",
    "df.loc[df['Gender'] == 'Transgender Female; Intersex', 'Gender'] = 'Outros'\n",
    "df.loc[df['Gender'] == 'Transgender Male; Male', 'Gender'] = 'Outros'\n",
    "df.loc[df['Gender'] == 'Female; Female', 'Gender'] = 'Outros'"
   ]
  },
  {
   "cell_type": "code",
   "execution_count": 21,
   "metadata": {},
   "outputs": [
    {
     "data": {
      "text/html": [
       "<div>\n",
       "<style scoped>\n",
       "    .dataframe tbody tr th:only-of-type {\n",
       "        vertical-align: middle;\n",
       "    }\n",
       "\n",
       "    .dataframe tbody tr th {\n",
       "        vertical-align: top;\n",
       "    }\n",
       "\n",
       "    .dataframe thead th {\n",
       "        text-align: right;\n",
       "    }\n",
       "</style>\n",
       "<table border=\"1\" class=\"dataframe\">\n",
       "  <thead>\n",
       "    <tr style=\"text-align: right;\">\n",
       "      <th></th>\n",
       "      <th>Name</th>\n",
       "      <th>Short description</th>\n",
       "      <th>Gender</th>\n",
       "      <th>Country</th>\n",
       "      <th>Occupation</th>\n",
       "      <th>Birth year</th>\n",
       "      <th>Death year</th>\n",
       "      <th>Age of death</th>\n",
       "    </tr>\n",
       "  </thead>\n",
       "  <tbody>\n",
       "    <tr>\n",
       "      <th>852</th>\n",
       "      <td>Danielle Bunten Berry</td>\n",
       "      <td>American game designer and programmer</td>\n",
       "      <td>Outros</td>\n",
       "      <td>United States of America</td>\n",
       "      <td>Researcher</td>\n",
       "      <td>1949</td>\n",
       "      <td>1998.0</td>\n",
       "      <td>49.0</td>\n",
       "    </tr>\n",
       "    <tr>\n",
       "      <th>4524</th>\n",
       "      <td>Dora Ratjen</td>\n",
       "      <td>German high jumper</td>\n",
       "      <td>Outros</td>\n",
       "      <td>Germany</td>\n",
       "      <td>Athlete</td>\n",
       "      <td>1918</td>\n",
       "      <td>2008.0</td>\n",
       "      <td>90.0</td>\n",
       "    </tr>\n",
       "    <tr>\n",
       "      <th>12502</th>\n",
       "      <td>Jeffrey Catherine Jones</td>\n",
       "      <td>artist (1944-2011)</td>\n",
       "      <td>Outros</td>\n",
       "      <td>United States of America</td>\n",
       "      <td>Artist</td>\n",
       "      <td>1944</td>\n",
       "      <td>2011.0</td>\n",
       "      <td>67.0</td>\n",
       "    </tr>\n",
       "    <tr>\n",
       "      <th>21173</th>\n",
       "      <td>Karl M. Baer</td>\n",
       "      <td>German-Israeli author, social worker, reformer...</td>\n",
       "      <td>Outros</td>\n",
       "      <td>Germany; Israel</td>\n",
       "      <td>Artist</td>\n",
       "      <td>1885</td>\n",
       "      <td>1956.0</td>\n",
       "      <td>71.0</td>\n",
       "    </tr>\n",
       "    <tr>\n",
       "      <th>31915</th>\n",
       "      <td>Ajita Wilson</td>\n",
       "      <td>American actress</td>\n",
       "      <td>Outros</td>\n",
       "      <td>United States of America</td>\n",
       "      <td>Artist</td>\n",
       "      <td>1950</td>\n",
       "      <td>1987.0</td>\n",
       "      <td>37.0</td>\n",
       "    </tr>\n",
       "    <tr>\n",
       "      <th>...</th>\n",
       "      <td>...</td>\n",
       "      <td>...</td>\n",
       "      <td>...</td>\n",
       "      <td>...</td>\n",
       "      <td>...</td>\n",
       "      <td>...</td>\n",
       "      <td>...</td>\n",
       "      <td>...</td>\n",
       "    </tr>\n",
       "    <tr>\n",
       "      <th>719528</th>\n",
       "      <td>João W. Nery</td>\n",
       "      <td>Brazilian transgender writer</td>\n",
       "      <td>Outros</td>\n",
       "      <td>Brazil</td>\n",
       "      <td>Artist</td>\n",
       "      <td>1950</td>\n",
       "      <td>2018.0</td>\n",
       "      <td>68.0</td>\n",
       "    </tr>\n",
       "    <tr>\n",
       "      <th>719867</th>\n",
       "      <td>Tereza Spencer</td>\n",
       "      <td>Czech journalist</td>\n",
       "      <td>Outros</td>\n",
       "      <td>Czech Republic</td>\n",
       "      <td>Journalist</td>\n",
       "      <td>1965</td>\n",
       "      <td>2020.0</td>\n",
       "      <td>55.0</td>\n",
       "    </tr>\n",
       "    <tr>\n",
       "      <th>722802</th>\n",
       "      <td>Julia Grant</td>\n",
       "      <td>British transgender activist</td>\n",
       "      <td>Outros</td>\n",
       "      <td>United Kingdom</td>\n",
       "      <td>Activist</td>\n",
       "      <td>1954</td>\n",
       "      <td>2019.0</td>\n",
       "      <td>65.0</td>\n",
       "    </tr>\n",
       "    <tr>\n",
       "      <th>726487</th>\n",
       "      <td>Marcia Torres</td>\n",
       "      <td>First transgender woman that had a sex reassig...</td>\n",
       "      <td>Outros</td>\n",
       "      <td>Chile</td>\n",
       "      <td>Hairdresser; vedette</td>\n",
       "      <td>1949</td>\n",
       "      <td>2011.0</td>\n",
       "      <td>62.0</td>\n",
       "    </tr>\n",
       "    <tr>\n",
       "      <th>727525</th>\n",
       "      <td>Melissa Ede</td>\n",
       "      <td>English transgender rights campaigner and soci...</td>\n",
       "      <td>Outros</td>\n",
       "      <td>United Kingdom</td>\n",
       "      <td>Taxi driver; activist; youtuber</td>\n",
       "      <td>1960</td>\n",
       "      <td>2019.0</td>\n",
       "      <td>59.0</td>\n",
       "    </tr>\n",
       "  </tbody>\n",
       "</table>\n",
       "<p>127 rows × 8 columns</p>\n",
       "</div>"
      ],
      "text/plain": [
       "                           Name  \\\n",
       "852       Danielle Bunten Berry   \n",
       "4524                Dora Ratjen   \n",
       "12502   Jeffrey Catherine Jones   \n",
       "21173              Karl M. Baer   \n",
       "31915              Ajita Wilson   \n",
       "...                         ...   \n",
       "719528             João W. Nery   \n",
       "719867           Tereza Spencer   \n",
       "722802              Julia Grant   \n",
       "726487            Marcia Torres   \n",
       "727525              Melissa Ede   \n",
       "\n",
       "                                        Short description  Gender  \\\n",
       "852                 American game designer and programmer  Outros   \n",
       "4524                                   German high jumper  Outros   \n",
       "12502                                  artist (1944-2011)  Outros   \n",
       "21173   German-Israeli author, social worker, reformer...  Outros   \n",
       "31915                                    American actress  Outros   \n",
       "...                                                   ...     ...   \n",
       "719528                       Brazilian transgender writer  Outros   \n",
       "719867                                   Czech journalist  Outros   \n",
       "722802                       British transgender activist  Outros   \n",
       "726487  First transgender woman that had a sex reassig...  Outros   \n",
       "727525  English transgender rights campaigner and soci...  Outros   \n",
       "\n",
       "                         Country                       Occupation  Birth year  \\\n",
       "852     United States of America                       Researcher        1949   \n",
       "4524                     Germany                          Athlete        1918   \n",
       "12502   United States of America                           Artist        1944   \n",
       "21173            Germany; Israel                           Artist        1885   \n",
       "31915   United States of America                           Artist        1950   \n",
       "...                          ...                              ...         ...   \n",
       "719528                    Brazil                           Artist        1950   \n",
       "719867            Czech Republic                       Journalist        1965   \n",
       "722802            United Kingdom                         Activist        1954   \n",
       "726487                     Chile             Hairdresser; vedette        1949   \n",
       "727525            United Kingdom  Taxi driver; activist; youtuber        1960   \n",
       "\n",
       "        Death year  Age of death  \n",
       "852         1998.0          49.0  \n",
       "4524        2008.0          90.0  \n",
       "12502       2011.0          67.0  \n",
       "21173       1956.0          71.0  \n",
       "31915       1987.0          37.0  \n",
       "...            ...           ...  \n",
       "719528      2018.0          68.0  \n",
       "719867      2020.0          55.0  \n",
       "722802      2019.0          65.0  \n",
       "726487      2011.0          62.0  \n",
       "727525      2019.0          59.0  \n",
       "\n",
       "[127 rows x 8 columns]"
      ]
     },
     "execution_count": 21,
     "metadata": {},
     "output_type": "execute_result"
    }
   ],
   "source": [
    "df[df[\"Gender\"] == 'Outros']"
   ]
  },
  {
   "cell_type": "code",
   "execution_count": 34,
   "metadata": {},
   "outputs": [
    {
     "data": {
      "text/plain": [
       "<AxesSubplot:xlabel='Death year', ylabel='Count'>"
      ]
     },
     "execution_count": 34,
     "metadata": {},
     "output_type": "execute_result"
    },
    {
     "data": {
      "image/png": "[encoded data removed]",
      "text/plain": [
       "<Figure size 432x288 with 1 Axes>"
      ]
     },
     "metadata": {
      "needs_background": "light"
     },
     "output_type": "display_data"
    }
   ],
   "source": [
    "sns.histplot(df['Death year'])"
   ]
  }
 ],
 "metadata": {
  "kernelspec": {
   "display_name": "Python 3 (ipykernel)",
   "language": "python",
   "name": "python3"
  },
  "language_info": {
   "codemirror_mode": {
    "name": "ipython",
    "version": 3
   },
   "file_extension": ".py",
   "mimetype": "text/x-python",
   "name": "python",
   "nbconvert_exporter": "python",
   "pygments_lexer": "ipython3",
   "version": "3.8.5"
  },
  "vscode": {
   "interpreter": {
    "hash": "26e36c08b061f2911e8cbb88ec5963c43a5d9181426b19ee77997581a57ae9e3"
   }
  }
 },
 "nbformat": 4,
 "nbformat_minor": 2
}
