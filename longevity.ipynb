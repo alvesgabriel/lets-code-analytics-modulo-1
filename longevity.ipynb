{
 "cells": [
  {
   "cell_type": "code",
   "execution_count": 4,
   "metadata": {
    "ExecuteTime": {
     "end_time": "2022-07-06T23:16:03.651023Z",
     "start_time": "2022-07-06T23:16:03.643040Z"
    }
   },
   "outputs": [],
   "source": [
    "import numpy as np\n",
    "import pandas as pd\n",
    "import seaborn as sns\n",
    "import matplotlib.pyplot as plt"
   ]
  },
  {
   "cell_type": "markdown",
   "metadata": {},
   "source": [
    "1. Ano com maior quantidade de mortes\n",
    "1. Longevidade\n",
    "1. Clube dos 27 (pessoas que morreram com 27 anos)"
   ]
  },
  {
   "cell_type": "code",
   "execution_count": 5,
   "metadata": {
    "ExecuteTime": {
     "end_time": "2022-07-06T23:16:06.951044Z",
     "start_time": "2022-07-06T23:16:03.656005Z"
    }
   },
   "outputs": [
    {
     "data": {
      "text/html": [
       "<div>\n",
       "<style scoped>\n",
       "    .dataframe tbody tr th:only-of-type {\n",
       "        vertical-align: middle;\n",
       "    }\n",
       "\n",
       "    .dataframe tbody tr th {\n",
       "        vertical-align: top;\n",
       "    }\n",
       "\n",
       "    .dataframe thead th {\n",
       "        text-align: right;\n",
       "    }\n",
       "</style>\n",
       "<table border=\"1\" class=\"dataframe\">\n",
       "  <thead>\n",
       "    <tr style=\"text-align: right;\">\n",
       "      <th></th>\n",
       "      <th>Name</th>\n",
       "      <th>Short description</th>\n",
       "      <th>Gender</th>\n",
       "      <th>Country</th>\n",
       "      <th>Occupation</th>\n",
       "      <th>Birth year</th>\n",
       "      <th>Death year</th>\n",
       "      <th>Age of death</th>\n",
       "    </tr>\n",
       "  </thead>\n",
       "  <tbody>\n",
       "    <tr>\n",
       "      <th>0</th>\n",
       "      <td>George Washington</td>\n",
       "      <td>1st president of the United States (1732–1799)</td>\n",
       "      <td>Male</td>\n",
       "      <td>United States of America; Kingdom of Great Bri...</td>\n",
       "      <td>Politician</td>\n",
       "      <td>1732</td>\n",
       "      <td>1799.0</td>\n",
       "      <td>67.0</td>\n",
       "    </tr>\n",
       "    <tr>\n",
       "      <th>1</th>\n",
       "      <td>Douglas Adams</td>\n",
       "      <td>English writer and humorist</td>\n",
       "      <td>Male</td>\n",
       "      <td>United Kingdom</td>\n",
       "      <td>Artist</td>\n",
       "      <td>1952</td>\n",
       "      <td>2001.0</td>\n",
       "      <td>49.0</td>\n",
       "    </tr>\n",
       "    <tr>\n",
       "      <th>2</th>\n",
       "      <td>Abraham Lincoln</td>\n",
       "      <td>16th president of the United States (1809-1865)</td>\n",
       "      <td>Male</td>\n",
       "      <td>United States of America</td>\n",
       "      <td>Politician</td>\n",
       "      <td>1809</td>\n",
       "      <td>1865.0</td>\n",
       "      <td>56.0</td>\n",
       "    </tr>\n",
       "    <tr>\n",
       "      <th>3</th>\n",
       "      <td>Wolfgang Amadeus Mozart</td>\n",
       "      <td>Austrian composer of the Classical period</td>\n",
       "      <td>Male</td>\n",
       "      <td>Archduchy of Austria; Archbishopric of Salzburg</td>\n",
       "      <td>Artist</td>\n",
       "      <td>1756</td>\n",
       "      <td>1791.0</td>\n",
       "      <td>35.0</td>\n",
       "    </tr>\n",
       "    <tr>\n",
       "      <th>4</th>\n",
       "      <td>Ludwig van Beethoven</td>\n",
       "      <td>German classical and romantic composer</td>\n",
       "      <td>Male</td>\n",
       "      <td>Holy Roman Empire; Austrian Empire</td>\n",
       "      <td>Artist</td>\n",
       "      <td>1770</td>\n",
       "      <td>1827.0</td>\n",
       "      <td>57.0</td>\n",
       "    </tr>\n",
       "    <tr>\n",
       "      <th>...</th>\n",
       "      <td>...</td>\n",
       "      <td>...</td>\n",
       "      <td>...</td>\n",
       "      <td>...</td>\n",
       "      <td>...</td>\n",
       "      <td>...</td>\n",
       "      <td>...</td>\n",
       "      <td>...</td>\n",
       "    </tr>\n",
       "    <tr>\n",
       "      <th>732956</th>\n",
       "      <td>Wim de Vreng</td>\n",
       "      <td>Dutch swimmer</td>\n",
       "      <td>Male</td>\n",
       "      <td>Kingdom of the Netherlands</td>\n",
       "      <td>Athlete</td>\n",
       "      <td>1930</td>\n",
       "      <td>1980.0</td>\n",
       "      <td>50.0</td>\n",
       "    </tr>\n",
       "    <tr>\n",
       "      <th>732957</th>\n",
       "      <td>James Smillie</td>\n",
       "      <td>goudsmid uit Schotland (1784-1841)</td>\n",
       "      <td>Male</td>\n",
       "      <td>Scotland</td>\n",
       "      <td>Goldsmith</td>\n",
       "      <td>1784</td>\n",
       "      <td>1841.0</td>\n",
       "      <td>57.0</td>\n",
       "    </tr>\n",
       "    <tr>\n",
       "      <th>732958</th>\n",
       "      <td>Gustav Siber</td>\n",
       "      <td>entrepreneur from Switzerland</td>\n",
       "      <td>Male</td>\n",
       "      <td>Switzerland</td>\n",
       "      <td>Entrepreneur</td>\n",
       "      <td>1857</td>\n",
       "      <td>1924.0</td>\n",
       "      <td>67.0</td>\n",
       "    </tr>\n",
       "    <tr>\n",
       "      <th>732959</th>\n",
       "      <td>Reginald Oswald Pearson</td>\n",
       "      <td>English artist, working in stained glass, prin...</td>\n",
       "      <td>Male</td>\n",
       "      <td>United Kingdom</td>\n",
       "      <td>Artist</td>\n",
       "      <td>1887</td>\n",
       "      <td>1915.0</td>\n",
       "      <td>28.0</td>\n",
       "    </tr>\n",
       "    <tr>\n",
       "      <th>732960</th>\n",
       "      <td>Horst Lerche</td>\n",
       "      <td>German painter</td>\n",
       "      <td>Male</td>\n",
       "      <td>Germany</td>\n",
       "      <td>Artist</td>\n",
       "      <td>1938</td>\n",
       "      <td>2017.0</td>\n",
       "      <td>79.0</td>\n",
       "    </tr>\n",
       "  </tbody>\n",
       "</table>\n",
       "<p>732961 rows × 8 columns</p>\n",
       "</div>"
      ],
      "text/plain": [
       "                           Name  \\\n",
       "0             George Washington   \n",
       "1                 Douglas Adams   \n",
       "2               Abraham Lincoln   \n",
       "3       Wolfgang Amadeus Mozart   \n",
       "4          Ludwig van Beethoven   \n",
       "...                         ...   \n",
       "732956             Wim de Vreng   \n",
       "732957            James Smillie   \n",
       "732958             Gustav Siber   \n",
       "732959  Reginald Oswald Pearson   \n",
       "732960             Horst Lerche   \n",
       "\n",
       "                                        Short description Gender  \\\n",
       "0          1st president of the United States (1732–1799)   Male   \n",
       "1                             English writer and humorist   Male   \n",
       "2         16th president of the United States (1809-1865)   Male   \n",
       "3               Austrian composer of the Classical period   Male   \n",
       "4                  German classical and romantic composer   Male   \n",
       "...                                                   ...    ...   \n",
       "732956                                      Dutch swimmer   Male   \n",
       "732957                 goudsmid uit Schotland (1784-1841)   Male   \n",
       "732958                      entrepreneur from Switzerland   Male   \n",
       "732959  English artist, working in stained glass, prin...   Male   \n",
       "732960                                     German painter   Male   \n",
       "\n",
       "                                                  Country    Occupation  \\\n",
       "0       United States of America; Kingdom of Great Bri...    Politician   \n",
       "1                                          United Kingdom        Artist   \n",
       "2                                United States of America    Politician   \n",
       "3         Archduchy of Austria; Archbishopric of Salzburg        Artist   \n",
       "4                      Holy Roman Empire; Austrian Empire        Artist   \n",
       "...                                                   ...           ...   \n",
       "732956                         Kingdom of the Netherlands       Athlete   \n",
       "732957                                           Scotland     Goldsmith   \n",
       "732958                                        Switzerland  Entrepreneur   \n",
       "732959                                     United Kingdom        Artist   \n",
       "732960                                            Germany        Artist   \n",
       "\n",
       "        Birth year  Death year  Age of death  \n",
       "0             1732      1799.0          67.0  \n",
       "1             1952      2001.0          49.0  \n",
       "2             1809      1865.0          56.0  \n",
       "3             1756      1791.0          35.0  \n",
       "4             1770      1827.0          57.0  \n",
       "...            ...         ...           ...  \n",
       "732956        1930      1980.0          50.0  \n",
       "732957        1784      1841.0          57.0  \n",
       "732958        1857      1924.0          67.0  \n",
       "732959        1887      1915.0          28.0  \n",
       "732960        1938      2017.0          79.0  \n",
       "\n",
       "[732961 rows x 8 columns]"
      ]
     },
     "execution_count": 5,
     "metadata": {},
     "output_type": "execute_result"
    }
   ],
   "source": [
    "filename = 'AgeDatasetClean.csv'\n",
    "df = pd.read_csv(filename,sep='|')\n",
    "df"
   ]
  },
  {
   "cell_type": "code",
   "execution_count": 6,
   "metadata": {
    "ExecuteTime": {
     "end_time": "2022-07-06T23:16:08.300723Z",
     "start_time": "2022-07-06T23:16:06.953040Z"
    }
   },
   "outputs": [
    {
     "data": {
      "text/plain": [
       "Name                 689988\n",
       "Short description    323654\n",
       "Gender                   19\n",
       "Country                5505\n",
       "Occupation             7750\n",
       "Birth year             1887\n",
       "Death year             1928\n",
       "Age of death             91\n",
       "dtype: int64"
      ]
     },
     "execution_count": 6,
     "metadata": {},
     "output_type": "execute_result"
    }
   ],
   "source": [
    "df.nunique()"
   ]
  },
  {
   "cell_type": "code",
   "execution_count": 7,
   "metadata": {
    "ExecuteTime": {
     "end_time": "2022-07-06T23:16:09.525988Z",
     "start_time": "2022-07-06T23:16:08.307503Z"
    }
   },
   "outputs": [
    {
     "name": "stdout",
     "output_type": "stream",
     "text": [
      "<class 'pandas.core.frame.DataFrame'>\n",
      "RangeIndex: 732961 entries, 0 to 732960\n",
      "Data columns (total 8 columns):\n",
      " #   Column             Non-Null Count   Dtype  \n",
      "---  ------             --------------   -----  \n",
      " 0   Name               732961 non-null  object \n",
      " 1   Short description  732961 non-null  object \n",
      " 2   Gender             732961 non-null  object \n",
      " 3   Country            732961 non-null  object \n",
      " 4   Occupation         732961 non-null  object \n",
      " 5   Birth year         732961 non-null  int64  \n",
      " 6   Death year         732961 non-null  float64\n",
      " 7   Age of death       732961 non-null  float64\n",
      "dtypes: float64(2), int64(1), object(5)\n",
      "memory usage: 44.7+ MB\n"
     ]
    }
   ],
   "source": [
    "df.info()"
   ]
  },
  {
   "cell_type": "code",
   "execution_count": 8,
   "metadata": {
    "ExecuteTime": {
     "end_time": "2022-07-06T23:16:09.742928Z",
     "start_time": "2022-07-06T23:16:09.529996Z"
    }
   },
   "outputs": [
    {
     "data": {
      "text/html": [
       "<div>\n",
       "<style scoped>\n",
       "    .dataframe tbody tr th:only-of-type {\n",
       "        vertical-align: middle;\n",
       "    }\n",
       "\n",
       "    .dataframe tbody tr th {\n",
       "        vertical-align: top;\n",
       "    }\n",
       "\n",
       "    .dataframe thead th {\n",
       "        text-align: right;\n",
       "    }\n",
       "</style>\n",
       "<table border=\"1\" class=\"dataframe\">\n",
       "  <thead>\n",
       "    <tr style=\"text-align: right;\">\n",
       "      <th></th>\n",
       "      <th>Birth year</th>\n",
       "      <th>Death year</th>\n",
       "      <th>Age of death</th>\n",
       "    </tr>\n",
       "  </thead>\n",
       "  <tbody>\n",
       "    <tr>\n",
       "      <th>count</th>\n",
       "      <td>732961.000000</td>\n",
       "      <td>732961.000000</td>\n",
       "      <td>732961.000000</td>\n",
       "    </tr>\n",
       "    <tr>\n",
       "      <th>mean</th>\n",
       "      <td>1862.675478</td>\n",
       "      <td>1933.037836</td>\n",
       "      <td>70.362358</td>\n",
       "    </tr>\n",
       "    <tr>\n",
       "      <th>std</th>\n",
       "      <td>124.853161</td>\n",
       "      <td>128.017179</td>\n",
       "      <td>15.943488</td>\n",
       "    </tr>\n",
       "    <tr>\n",
       "      <th>min</th>\n",
       "      <td>-2284.000000</td>\n",
       "      <td>-2200.000000</td>\n",
       "      <td>11.000000</td>\n",
       "    </tr>\n",
       "    <tr>\n",
       "      <th>25%</th>\n",
       "      <td>1847.000000</td>\n",
       "      <td>1914.000000</td>\n",
       "      <td>61.000000</td>\n",
       "    </tr>\n",
       "    <tr>\n",
       "      <th>50%</th>\n",
       "      <td>1894.000000</td>\n",
       "      <td>1965.000000</td>\n",
       "      <td>73.000000</td>\n",
       "    </tr>\n",
       "    <tr>\n",
       "      <th>75%</th>\n",
       "      <td>1921.000000</td>\n",
       "      <td>1999.000000</td>\n",
       "      <td>82.000000</td>\n",
       "    </tr>\n",
       "    <tr>\n",
       "      <th>max</th>\n",
       "      <td>2003.000000</td>\n",
       "      <td>2021.000000</td>\n",
       "      <td>122.000000</td>\n",
       "    </tr>\n",
       "  </tbody>\n",
       "</table>\n",
       "</div>"
      ],
      "text/plain": [
       "          Birth year     Death year   Age of death\n",
       "count  732961.000000  732961.000000  732961.000000\n",
       "mean     1862.675478    1933.037836      70.362358\n",
       "std       124.853161     128.017179      15.943488\n",
       "min     -2284.000000   -2200.000000      11.000000\n",
       "25%      1847.000000    1914.000000      61.000000\n",
       "50%      1894.000000    1965.000000      73.000000\n",
       "75%      1921.000000    1999.000000      82.000000\n",
       "max      2003.000000    2021.000000     122.000000"
      ]
     },
     "execution_count": 8,
     "metadata": {},
     "output_type": "execute_result"
    }
   ],
   "source": [
    "df.describe()"
   ]
  },
  {
   "cell_type": "code",
   "execution_count": 9,
   "metadata": {
    "ExecuteTime": {
     "end_time": "2022-07-06T23:16:09.804466Z",
     "start_time": "2022-07-06T23:16:09.752453Z"
    }
   },
   "outputs": [
    {
     "data": {
      "text/plain": [
       "80.0     20304\n",
       "78.0     20076\n",
       "77.0     20039\n",
       "79.0     19993\n",
       "74.0     19884\n",
       "         ...  \n",
       "13.0        85\n",
       "12.0        79\n",
       "11.0        70\n",
       "122.0        1\n",
       "121.0        1\n",
       "Name: Age of death, Length: 91, dtype: int64"
      ]
     },
     "execution_count": 9,
     "metadata": {},
     "output_type": "execute_result"
    }
   ],
   "source": [
    "df['Age of death'].value_counts()"
   ]
  },
  {
   "cell_type": "code",
   "execution_count": 10,
   "metadata": {
    "ExecuteTime": {
     "end_time": "2022-07-06T23:16:09.943761Z",
     "start_time": "2022-07-06T23:16:09.808430Z"
    }
   },
   "outputs": [
    {
     "data": {
      "text/plain": [
       "Male                                              659548\n",
       "Female                                             73286\n",
       "Transgender Female                                    57\n",
       "Transgender Male                                      30\n",
       "Eunuch; Male                                          13\n",
       "Intersex                                               7\n",
       "Female; Male                                           5\n",
       "Transgender Male; Female                               3\n",
       "Non-Binary                                             2\n",
       "Female; Female                                         1\n",
       "Transgender Female; Intersex                           1\n",
       "Eunuch                                                 1\n",
       "Transgender Male; Male                                 1\n",
       "Transgender Female; Female                             1\n",
       "Intersex; Transgender Male                             1\n",
       "Transgender Female; Male                               1\n",
       "Intersex; Male                                         1\n",
       "Transgender Person; Intersex; Transgender Male         1\n",
       "Intersex; Female                                       1\n",
       "Name: Gender, dtype: int64"
      ]
     },
     "execution_count": 10,
     "metadata": {},
     "output_type": "execute_result"
    }
   ],
   "source": [
    "df['Gender'].value_counts()"
   ]
  },
  {
   "cell_type": "code",
   "execution_count": 11,
   "metadata": {
    "ExecuteTime": {
     "end_time": "2022-07-06T23:16:10.175701Z",
     "start_time": "2022-07-06T23:16:09.950427Z"
    }
   },
   "outputs": [],
   "source": [
    "#Adicionando demais Generos na condição Outros\n",
    "gender_others = (df['Gender'] != 'Male') & (df['Gender'] != 'Female')\n",
    "df.loc[gender_others, 'Gender'] = 'Others'"
   ]
  },
  {
   "cell_type": "code",
   "execution_count": 13,
   "metadata": {
    "ExecuteTime": {
     "end_time": "2022-07-06T23:16:28.041452Z",
     "start_time": "2022-07-06T23:16:27.953904Z"
    }
   },
   "outputs": [
    {
     "data": {
      "text/plain": [
       "Male      659548\n",
       "Female     73286\n",
       "Others       127\n",
       "Name: Gender, dtype: int64"
      ]
     },
     "execution_count": 13,
     "metadata": {},
     "output_type": "execute_result"
    }
   ],
   "source": [
    "df['Gender'].value_counts()\n"
   ]
  },
  {
   "cell_type": "markdown",
   "metadata": {
    "ExecuteTime": {
     "end_time": "2022-07-06T11:52:17.733790Z",
     "start_time": "2022-07-06T11:52:17.714352Z"
    }
   },
   "source": []
  },
  {
   "cell_type": "markdown",
   "metadata": {
    "ExecuteTime": {
     "end_time": "2022-07-06T23:16:10.191931Z",
     "start_time": "2022-07-06T23:16:10.184049Z"
    }
   },
   "source": [
    "# Ano com mais morte"
   ]
  },
  {
   "cell_type": "code",
   "execution_count": 14,
   "metadata": {
    "ExecuteTime": {
     "end_time": "2022-07-06T23:17:13.707857Z",
     "start_time": "2022-07-06T23:17:13.666009Z"
    }
   },
   "outputs": [
    {
     "data": {
      "text/plain": [
       " 2015.0    10182\n",
       " 2016.0     9963\n",
       " 2014.0     9958\n",
       " 2017.0     9705\n",
       " 2013.0     9672\n",
       "           ...  \n",
       "-96.0          1\n",
       "-84.0          1\n",
       " 459.0         1\n",
       "-380.0         1\n",
       " 944.0         1\n",
       "Name: Death year, Length: 1928, dtype: int64"
      ]
     },
     "execution_count": 14,
     "metadata": {},
     "output_type": "execute_result"
    }
   ],
   "source": [
    "df['Death year'].value_counts()"
   ]
  },
  {
   "cell_type": "code",
   "execution_count": 17,
   "metadata": {
    "ExecuteTime": {
     "end_time": "2022-07-06T23:23:26.435473Z",
     "start_time": "2022-07-06T23:23:25.746976Z"
    }
   },
   "outputs": [
    {
     "data": {
      "text/plain": [
       "<AxesSubplot:xlabel='Death year', ylabel='Count'>"
      ]
     },
     "execution_count": 17,
     "metadata": {},
     "output_type": "execute_result"
    },
    {
     "data": {
      "image/png": "[encoded data removed]",
      "text/plain": [
       "<Figure size 432x288 with 1 Axes>"
      ]
     },
     "metadata": {
      "needs_background": "light"
     },
     "output_type": "display_data"
    }
   ],
   "source": [
    "sns.histplot(df[df['Death year']>= 2000]['Death year'])"
   ]
  },
  {
   "cell_type": "code",
   "execution_count": 18,
   "metadata": {
    "ExecuteTime": {
     "end_time": "2022-07-06T23:26:13.873583Z",
     "start_time": "2022-07-06T23:26:13.062224Z"
    }
   },
   "outputs": [
    {
     "data": {
      "text/plain": [
       "<AxesSubplot:xlabel='Death year', ylabel='Count'>"
      ]
     },
     "execution_count": 18,
     "metadata": {},
     "output_type": "execute_result"
    },
    {
     "data": {
      "image/png": "[encoded data removed]",
      "text/plain": [
       "<Figure size 432x288 with 1 Axes>"
      ]
     },
     "metadata": {
      "needs_background": "light"
     },
     "output_type": "display_data"
    }
   ],
   "source": [
    "sns.histplot(df[df['Country']== 'Brazil']['Death year'])"
   ]
  },
  {
   "cell_type": "markdown",
   "metadata": {
    "ExecuteTime": {
     "end_time": "2022-07-06T23:36:10.357523Z",
     "start_time": "2022-07-06T23:36:10.336896Z"
    }
   },
   "source": [
    "# Longevidade"
   ]
  },
  {
   "cell_type": "code",
   "execution_count": 28,
   "metadata": {
    "ExecuteTime": {
     "end_time": "2022-07-06T23:41:41.734358Z",
     "start_time": "2022-07-06T23:41:41.540794Z"
    }
   },
   "outputs": [],
   "source": [
    "df_country = df.groupby([\"Country\"])[\"Age of death\"].agg([\"mean\", \"median\",\"std\", \"count\"])"
   ]
  },
  {
   "cell_type": "code",
   "execution_count": 38,
   "metadata": {
    "ExecuteTime": {
     "end_time": "2022-07-06T23:47:41.756983Z",
     "start_time": "2022-07-06T23:47:41.727830Z"
    }
   },
   "outputs": [
    {
     "data": {
      "text/html": [
       "<div>\n",
       "<style scoped>\n",
       "    .dataframe tbody tr th:only-of-type {\n",
       "        vertical-align: middle;\n",
       "    }\n",
       "\n",
       "    .dataframe tbody tr th {\n",
       "        vertical-align: top;\n",
       "    }\n",
       "\n",
       "    .dataframe thead th {\n",
       "        text-align: right;\n",
       "    }\n",
       "</style>\n",
       "<table border=\"1\" class=\"dataframe\">\n",
       "  <thead>\n",
       "    <tr style=\"text-align: right;\">\n",
       "      <th></th>\n",
       "      <th>mean</th>\n",
       "      <th>median</th>\n",
       "      <th>std</th>\n",
       "      <th>count</th>\n",
       "    </tr>\n",
       "    <tr>\n",
       "      <th>Country</th>\n",
       "      <th></th>\n",
       "      <th></th>\n",
       "      <th></th>\n",
       "      <th></th>\n",
       "    </tr>\n",
       "  </thead>\n",
       "  <tbody>\n",
       "    <tr>\n",
       "      <th>Russia; Soviet Union; Russian Empire</th>\n",
       "      <td>88.686567</td>\n",
       "      <td>89.0</td>\n",
       "      <td>5.307190</td>\n",
       "      <td>201</td>\n",
       "    </tr>\n",
       "    <tr>\n",
       "      <th>Slovenia; Austria-Hungary; Socialist Federal Republic of Yugoslavia; Kingdom of Yugoslavia</th>\n",
       "      <td>87.279661</td>\n",
       "      <td>87.0</td>\n",
       "      <td>5.629418</td>\n",
       "      <td>118</td>\n",
       "    </tr>\n",
       "    <tr>\n",
       "      <th>People's Republic of China; Republic of China (1912–1949)</th>\n",
       "      <td>81.307692</td>\n",
       "      <td>84.0</td>\n",
       "      <td>12.837682</td>\n",
       "      <td>143</td>\n",
       "    </tr>\n",
       "    <tr>\n",
       "      <th>Slovenia; Socialist Federal Republic of Yugoslavia; Kingdom of Yugoslavia</th>\n",
       "      <td>82.444828</td>\n",
       "      <td>83.0</td>\n",
       "      <td>7.701080</td>\n",
       "      <td>290</td>\n",
       "    </tr>\n",
       "    <tr>\n",
       "      <th>Hungary; United States of America</th>\n",
       "      <td>79.594937</td>\n",
       "      <td>82.0</td>\n",
       "      <td>11.832718</td>\n",
       "      <td>158</td>\n",
       "    </tr>\n",
       "    <tr>\n",
       "      <th>...</th>\n",
       "      <td>...</td>\n",
       "      <td>...</td>\n",
       "      <td>...</td>\n",
       "      <td>...</td>\n",
       "    </tr>\n",
       "    <tr>\n",
       "      <th>Grand Duchy of Lithuania</th>\n",
       "      <td>58.107438</td>\n",
       "      <td>59.0</td>\n",
       "      <td>15.708173</td>\n",
       "      <td>121</td>\n",
       "    </tr>\n",
       "    <tr>\n",
       "      <th>Kingdom of Scotland</th>\n",
       "      <td>56.241830</td>\n",
       "      <td>58.0</td>\n",
       "      <td>17.532556</td>\n",
       "      <td>306</td>\n",
       "    </tr>\n",
       "    <tr>\n",
       "      <th>Qing dynasty; Republic of China (1912–1949)</th>\n",
       "      <td>57.352381</td>\n",
       "      <td>56.0</td>\n",
       "      <td>16.334826</td>\n",
       "      <td>105</td>\n",
       "    </tr>\n",
       "    <tr>\n",
       "      <th>Ukraine</th>\n",
       "      <td>55.546939</td>\n",
       "      <td>56.0</td>\n",
       "      <td>22.802137</td>\n",
       "      <td>490</td>\n",
       "    </tr>\n",
       "    <tr>\n",
       "      <th>Pakistan</th>\n",
       "      <td>53.548077</td>\n",
       "      <td>54.5</td>\n",
       "      <td>15.953744</td>\n",
       "      <td>104</td>\n",
       "    </tr>\n",
       "  </tbody>\n",
       "</table>\n",
       "<p>208 rows × 4 columns</p>\n",
       "</div>"
      ],
      "text/plain": [
       "                                                         mean  median  \\\n",
       "Country                                                                 \n",
       "Russia; Soviet Union; Russian Empire                88.686567    89.0   \n",
       "Slovenia; Austria-Hungary; Socialist Federal Re...  87.279661    87.0   \n",
       "People's Republic of China; Republic of China (...  81.307692    84.0   \n",
       "Slovenia; Socialist Federal Republic of Yugosla...  82.444828    83.0   \n",
       "Hungary; United States of America                   79.594937    82.0   \n",
       "...                                                       ...     ...   \n",
       "Grand Duchy of Lithuania                            58.107438    59.0   \n",
       "Kingdom of Scotland                                 56.241830    58.0   \n",
       "Qing dynasty; Republic of China (1912–1949)         57.352381    56.0   \n",
       "Ukraine                                             55.546939    56.0   \n",
       "Pakistan                                            53.548077    54.5   \n",
       "\n",
       "                                                          std  count  \n",
       "Country                                                               \n",
       "Russia; Soviet Union; Russian Empire                 5.307190    201  \n",
       "Slovenia; Austria-Hungary; Socialist Federal Re...   5.629418    118  \n",
       "People's Republic of China; Republic of China (...  12.837682    143  \n",
       "Slovenia; Socialist Federal Republic of Yugosla...   7.701080    290  \n",
       "Hungary; United States of America                   11.832718    158  \n",
       "...                                                       ...    ...  \n",
       "Grand Duchy of Lithuania                            15.708173    121  \n",
       "Kingdom of Scotland                                 17.532556    306  \n",
       "Qing dynasty; Republic of China (1912–1949)         16.334826    105  \n",
       "Ukraine                                             22.802137    490  \n",
       "Pakistan                                            15.953744    104  \n",
       "\n",
       "[208 rows x 4 columns]"
      ]
     },
     "execution_count": 38,
     "metadata": {},
     "output_type": "execute_result"
    }
   ],
   "source": [
    "df_country[df_country['count'] > 100].sort_values('median', ascending=False)"
   ]
  },
  {
   "cell_type": "markdown",
   "metadata": {},
   "source": [
    "Pais com mais mortes"
   ]
  },
  {
   "cell_type": "code",
   "execution_count": 24,
   "metadata": {
    "ExecuteTime": {
     "end_time": "2022-07-06T23:34:59.651083Z",
     "start_time": "2022-07-06T23:34:59.491943Z"
    }
   },
   "outputs": [
    {
     "data": {
      "text/plain": [
       "United States of America                                       145078\n",
       "Germany                                                         78694\n",
       "France                                                          64165\n",
       "United Kingdom; United Kingdom of Great Britain and Ireland     28257\n",
       "United Kingdom                                                  21270\n",
       "                                                                ...  \n",
       "Qing dynasty; Hongkongers                                           1\n",
       "Sui dynasty; Tang Empire; Chen dynasty; Liang dynasty               1\n",
       "United States of America; France; Kingdom of Italy                  1\n",
       "France; Portugalete Canton                                          1\n",
       "Syria; State of Syria; Syrian Republic                              1\n",
       "Name: Country, Length: 5505, dtype: int64"
      ]
     },
     "execution_count": 24,
     "metadata": {},
     "output_type": "execute_result"
    }
   ],
   "source": [
    "df['Country'].value_counts()"
   ]
  },
  {
   "cell_type": "markdown",
   "metadata": {},
   "source": [
    "# Clube dos 27"
   ]
  },
  {
   "cell_type": "code",
   "execution_count": 22,
   "metadata": {
    "ExecuteTime": {
     "end_time": "2022-07-06T23:31:40.609233Z",
     "start_time": "2022-07-06T23:31:40.578093Z"
    }
   },
   "outputs": [
    {
     "data": {
      "text/plain": [
       "Athlete               413\n",
       "Artist                361\n",
       "Military personnel    311\n",
       "Politician            110\n",
       "Researcher             43\n",
       "Aristocrat             28\n",
       "Religious figure       23\n",
       "Flying ace             17\n",
       "Engineer               13\n",
       "Journalist             10\n",
       "Name: Occupation, dtype: int64"
      ]
     },
     "execution_count": 22,
     "metadata": {},
     "output_type": "execute_result"
    }
   ],
   "source": [
    "df[df['Age of death'] == 27]['Occupation'].value_counts()[:10]"
   ]
  },
  {
   "cell_type": "code",
   "execution_count": 23,
   "metadata": {
    "ExecuteTime": {
     "end_time": "2022-07-06T23:34:16.238942Z",
     "start_time": "2022-07-06T23:34:16.203757Z"
    }
   },
   "outputs": [
    {
     "data": {
      "text/plain": [
       "United States of America                       285\n",
       "France                                         136\n",
       "Germany                                        105\n",
       "United Kingdom of Great Britain and Ireland     99\n",
       "Kingdom of Italy                                68\n",
       "United Kingdom                                  43\n",
       "Spain                                           41\n",
       "Australia                                       38\n",
       "Canada                                          33\n",
       "Sweden                                          25\n",
       "Name: Country, dtype: int64"
      ]
     },
     "execution_count": 23,
     "metadata": {},
     "output_type": "execute_result"
    }
   ],
   "source": [
    "df[df['Age of death'] == 27]['Country'].value_counts()[:10]"
   ]
  }
 ],
 "metadata": {
  "kernelspec": {
   "display_name": "Python 3 (ipykernel)",
   "language": "python",
   "name": "python3"
  },
  "language_info": {
   "codemirror_mode": {
    "name": "ipython",
    "version": 3
   },
   "file_extension": ".py",
   "mimetype": "text/x-python",
   "name": "python",
   "nbconvert_exporter": "python",
   "pygments_lexer": "ipython3",
   "version": "3.9.12"
  },
  "vscode": {
   "interpreter": {
    "hash": "26e36c08b061f2911e8cbb88ec5963c43a5d9181426b19ee77997581a57ae9e3"
   }
  }
 },
 "nbformat": 4,
 "nbformat_minor": 2
}
